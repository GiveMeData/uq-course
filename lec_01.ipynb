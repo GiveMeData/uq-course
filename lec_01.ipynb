{
 "cells": [
  {
   "cell_type": "markdown",
   "metadata": {},
   "source": [
    "# Lecture 1 - Introduction to Uncertainty Quantification\n",
    "\n",
    "> Ignorance is preferable to error and he is less remote from the truth who believes nothing than he who believes what is wrong.\n",
    "Thomas Jefferson (1781)\n",
    "\n",
    "## Objectives\n",
    "+ To tell the difference between **aleatory** and **epistemic** uncertainties.\n",
    "+ To define **predictive modeling**.\n",
    "+ To get accustomed with the processes of **verification**, **calibration**, and **validation** of a computer code.\n",
    "+ To use **probability theory** to represent both aleatory and epistemic uncertainties.\n",
    "+ To see how **Bayes rule** can be used to calibrate the parameters of a model with quantified uncertainties."
   ]
  },
  {
   "cell_type": "markdown",
   "metadata": {},
   "source": [
    "## Readings\n",
    "\n",
    "Before coming to class, please read the following:\n",
    "\n",
    "1) [Computer Predictions with Quantified Uncertainty, Part I](http://www.siam.org/pdf/news/1842.pdf), by Tinsley Oden, Robert Moser, and Omar Ghattas.\n",
    "\n",
    "2) [Computer Predictions with Quantified Uncertainty, Part II](http://www.siam.org/pdf/news/1857.pdf), by Tinsley Oden, Robert Moser, and Omar Ghattas."
   ]
  },
  {
   "cell_type": "markdown",
   "metadata": {},
   "source": [
    "## Definitions\n",
    "\n",
    "We are not going to make a big effort to be consistent about the use of the following terms, since their precise meaning is still under debate.\n",
    "\n",
    "### Uncertainty\n",
    "In general, we are uncertain about a logical proposition if we do not know whether it is true or false. \n",
    "In particular, we can be uncertain about:\n",
    "+ the value of a model parameter\n",
    "+ the mathematical form of a model\n",
    "+ the initial conditions of a ordinary differntial equations\n",
    "+ the boundary conditions of a partial differential equation\n",
    "+ the value of an experimental measurment we are about to perform\n",
    "+ etc.\n",
    "\n",
    "Uncertainty may be *aleatory* or *epistemic*. Aleatory uncertainty is associated with inherent system randomness. Epistemic uncertainty is associated with lack of knowledge. If you think too hard, the distinction between the two becomes philosophical. We are not going to push this too hard. Fortunately, our approach (the Bayesian approach) treats both uncertainty on an equal footing.\n",
    "\n",
    "### Predictive Modeling\n",
    "*Predictive modeling* is the process of assigning error bars to the predictions of computational models which rigorously quantify the effect of all (ideally) associated uncertainties. This quantified uncertainty can be used to assess the risk of making decisions based on these model predictions.\n",
    "\n",
    "### Verification\n",
    "Verification is the process of *convincing yourself* that a computer code is actually solving the right mathematical equations. Even though it is impossible to be 100% sure that a complicated computer code works as intended, it is easy to verify that it does not.\n",
    "\n",
    "### Calibration\n",
    "Calibration is the process of fitting the parameters of a computer code to experimental data. It is most important problem of uncertainty quantification. The difficulties arise from the experimental noise, insufficient data (observing part of the system), model discrepancy and more.\n",
    "\n",
    "### Validation\n",
    "Validation is the process of comparing the model predictions to experimental data not used in the calibration process.\n"
   ]
  },
  {
   "cell_type": "markdown",
   "metadata": {},
   "source": [
    "## Example: Catalytic Conversion of Nitrate to Nitrogen\n",
    "\n",
    "This is Example 3.1 of \\cite{tsilifis2015}.\n",
    "\n",
    "Consider the catalytic\n",
    "conversion of nitrate ($\\mbox{NO}_3^-$) to nitrogen ($\\mbox{N}_2$) and other\n",
    "by-products by electrochemical means.\n",
    "The mechanism that is followed is complex and not well understood.\n",
    "The experiment of \\cite{katsounaros} confirmed the\n",
    "production of nitrogen ($\\mbox{N}_2$), ammonia\n",
    "($\\mbox{NH}_3$), and nitrous oxide ($\\mbox{N}_2\\mbox{O}$) as final products\n",
    "of the reaction, as well as the intermediate production of nitrite ($\\mbox{NO}_2^-$).\n",
    "The data are reproduced in [Comma-separated values](https://en.wikipedia.org/wiki/Comma-separated_values) (CSV) and stored in\n",
    "[data/catalysis.csv](data/catalysis.csv).\n",
    "The time is measured in minutes and the conentrations are measured in $\\mbox{mmol}\\cdot\\mbox{L}^{-1}$.\n",
    "Let's load the data into this notebook using the [Pandas](http://pandas.pydata.org) Python module:\n"
   ]
  },
  {
   "cell_type": "code",
   "execution_count": 34,
   "metadata": {
    "collapsed": false
   },
   "outputs": [
    {
     "data": {
      "text/html": [
       "<div>\n",
       "<table border=\"1\" class=\"dataframe\">\n",
       "  <thead>\n",
       "    <tr style=\"text-align: right;\">\n",
       "      <th></th>\n",
       "      <th>NO3</th>\n",
       "      <th>NO2</th>\n",
       "      <th>N2</th>\n",
       "      <th>NH3</th>\n",
       "      <th>N2O</th>\n",
       "    </tr>\n",
       "    <tr>\n",
       "      <th>Time</th>\n",
       "      <th></th>\n",
       "      <th></th>\n",
       "      <th></th>\n",
       "      <th></th>\n",
       "      <th></th>\n",
       "    </tr>\n",
       "  </thead>\n",
       "  <tbody>\n",
       "    <tr>\n",
       "      <th>0</th>\n",
       "      <td>500.00</td>\n",
       "      <td>0.00</td>\n",
       "      <td>0.00</td>\n",
       "      <td>0.00</td>\n",
       "      <td>0.00</td>\n",
       "    </tr>\n",
       "    <tr>\n",
       "      <th>30</th>\n",
       "      <td>250.95</td>\n",
       "      <td>107.32</td>\n",
       "      <td>18.51</td>\n",
       "      <td>3.33</td>\n",
       "      <td>4.98</td>\n",
       "    </tr>\n",
       "    <tr>\n",
       "      <th>60</th>\n",
       "      <td>123.66</td>\n",
       "      <td>132.33</td>\n",
       "      <td>74.85</td>\n",
       "      <td>7.34</td>\n",
       "      <td>20.14</td>\n",
       "    </tr>\n",
       "    <tr>\n",
       "      <th>90</th>\n",
       "      <td>84.47</td>\n",
       "      <td>98.81</td>\n",
       "      <td>166.19</td>\n",
       "      <td>13.14</td>\n",
       "      <td>42.10</td>\n",
       "    </tr>\n",
       "    <tr>\n",
       "      <th>120</th>\n",
       "      <td>30.24</td>\n",
       "      <td>38.74</td>\n",
       "      <td>249.78</td>\n",
       "      <td>19.54</td>\n",
       "      <td>55.98</td>\n",
       "    </tr>\n",
       "    <tr>\n",
       "      <th>150</th>\n",
       "      <td>27.94</td>\n",
       "      <td>10.42</td>\n",
       "      <td>292.32</td>\n",
       "      <td>24.07</td>\n",
       "      <td>60.65</td>\n",
       "    </tr>\n",
       "    <tr>\n",
       "      <th>180</th>\n",
       "      <td>13.54</td>\n",
       "      <td>6.11</td>\n",
       "      <td>309.50</td>\n",
       "      <td>27.26</td>\n",
       "      <td>62.54</td>\n",
       "    </tr>\n",
       "  </tbody>\n",
       "</table>\n",
       "</div>"
      ],
      "text/plain": [
       "         NO3     NO2      N2    NH3    N2O\n",
       "Time                                      \n",
       "0     500.00    0.00    0.00   0.00   0.00\n",
       "30    250.95  107.32   18.51   3.33   4.98\n",
       "60    123.66  132.33   74.85   7.34  20.14\n",
       "90     84.47   98.81  166.19  13.14  42.10\n",
       "120    30.24   38.74  249.78  19.54  55.98\n",
       "150    27.94   10.42  292.32  24.07  60.65\n",
       "180    13.54    6.11  309.50  27.26  62.54"
      ]
     },
     "execution_count": 34,
     "metadata": {},
     "output_type": "execute_result"
    }
   ],
   "source": [
    "import pandas as pd\n",
    "catalysis_data = pd.read_csv('data/catalysis.csv', index_col=0)\n",
    "catalysis_data"
   ]
  },
  {
   "cell_type": "markdown",
   "metadata": {},
   "source": [
    "Let's visualize the data using [Matplotlib](http://matplotlib.org):"
   ]
  },
  {
   "cell_type": "code",
   "execution_count": 136,
   "metadata": {
    "collapsed": false
   },
   "outputs": [
    {
     "data": {
      "text/plain": [
       "<matplotlib.axes._subplots.AxesSubplot at 0x110912a10>"
      ]
     },
     "execution_count": 136,
     "metadata": {},
     "output_type": "execute_result"
    },
    {
     "data": {
      "image/png": "[encoded data removed]",
      "text/plain": [
       "<matplotlib.figure.Figure at 0x1107b7090>"
      ]
     },
     "metadata": {},
     "output_type": "display_data"
    }
   ],
   "source": [
    "import matplotlib.pyplot as plt\n",
    "import seaborn as sns\n",
    "%matplotlib inline\n",
    "catalysis_data.plot()"
   ]
  },
  {
   "cell_type": "markdown",
   "metadata": {},
   "source": [
    "The theory of catalytic reactions guarantees that the total mass must be conserved.\n",
    "However, this is not the case in our dataset:"
   ]
  },
  {
   "cell_type": "code",
   "execution_count": 45,
   "metadata": {
    "collapsed": false
   },
   "outputs": [
    {
     "data": {
      "text/plain": [
       "Time\n",
       "0      500.00\n",
       "30     385.09\n",
       "60     358.32\n",
       "90     404.71\n",
       "120    394.28\n",
       "150    415.40\n",
       "180    418.95\n",
       "dtype: float64"
      ]
     },
     "execution_count": 45,
     "metadata": {},
     "output_type": "execute_result"
    }
   ],
   "source": [
    "catalysis_data.sum(axis=1)"
   ]
  },
  {
   "cell_type": "markdown",
   "metadata": {},
   "source": [
    "This inconsistency suggests the existence of an intermediate unobserved reaction product X.\n",
    "\\cite{katsounaros} suggested that the following reaction path shown in the following figure.\n",
    "\n",
    "![](figures/scheme.png \"Reaction Scheme\")\n",
    "\n",
    "The dynamical system associated with the reaction is:\n",
    "\\begin{equation}\n",
    "\\label{eq:kinetic_model}\n",
    "\\begin{array}{cc}\n",
    "\\frac{d \\left[\\mbox{NO}_3^-\\right]}{dt} &= -k_1\\left[\\mbox{NO}_3^-\\right], \\\\\n",
    "\\frac{d\\left[\\mbox{NO}_2^-\\right]}{dt} &= k_1\\left[\\mbox{NO}_3^-\\right] - (k_2 + k_4 +\n",
    "k_5)[\\mbox{NO}_2^-], \\\\\n",
    "\\frac{d \\left[\\mbox{X}\\right]}{dt} &= k_2 \\left[\\mbox{NO}_2^-\\right] - k_3 [X],\\\\\n",
    "\\frac{d \\left[\\mbox{N}_2\\right]}{dt} &= k_3 \\left[\\mbox{X}\\right], \\\\\n",
    "\\frac{d \\left[\\mbox{NH}_3\\right]}{dt} &= k_4 \\left[\\mbox{NO}_2^-\\right],\\\\\n",
    "\\frac{d \\left[\\mbox{N}_2O\\right]}{dt} &= k_5 \\left[\\mbox{NO}_2^-\\right],\n",
    "\\end{array}\n",
    "\\end{equation}\n",
    "where $[\\cdot]$ denotes the concentration of a quantity, and\n",
    "$k_i > 0$, $i=1,...5$ are the *kinetic rate constants*.\n"
   ]
  },
  {
   "cell_type": "markdown",
   "metadata": {},
   "source": [
    "### Questions\n",
    "\n",
    "1) Assume that you are a chemical engineer and that you are assigned the task of designing a reactor for the conversion of nitrate to nitrogen. Before you start designing, you collect on information in an attempt to characterize your state of knowledge about the problem. How many different sources of uncertainty can you think of?\n",
    "\n",
    "2) Which of these uncertainties would you characterize as aleatoric uncertainties and which as epistemic?\n",
    "\n",
    "3) Is the distinction between aleatory and epistemic uncertainties always clear cut?"
   ]
  },
  {
   "cell_type": "markdown",
   "metadata": {},
   "source": [
    "### Computational Model\n",
    "\n",
    "We will develop a generic computational model for the solution of dynamical systems and we will use it to study the catalysis problem. The code relies on the [Fourth-order Runge-Kutta method](https://en.wikipedia.org/wiki/Runge–Kutta_methods) and is a modified copy of [http://www.math-cs.gordon.edu/courses/ma342/python/diffeq.py](http://www.math-cs.gordon.edu/courses/ma342/python/diffeq.py) developed by Jonathan Senning. The code solves:\n",
    "\n",
    "\\begin{equation}\n",
    "\\label{eq:ode}\n",
    "\\begin{array}{ccc}\n",
    "\\dot{\\mathbf{y}} &=& f(\\mathbf{y}, t),\\\\\n",
    "\\mathbf{y}(0) &=& \\mathbf{y}_0.\n",
    "\\end{array}\n",
    "\\end{equation}"
   ]
  },
  {
   "cell_type": "code",
   "execution_count": 175,
   "metadata": {
    "collapsed": true
   },
   "outputs": [],
   "source": [
    "import numpy as np\n",
    "def rk45( f, y0, t, args=() ):\n",
    "    \"\"\"Fourth-order Runge-Kutta method with error estimate.\n",
    "\n",
    "    USAGE:\n",
    "        y = rk45(f, x0, t, args=())\n",
    "\n",
    "    INPUT:\n",
    "        f     - function of x and t equal to dx/dt.  x may be multivalued,\n",
    "                in which case it should a list or a NumPy array.  In this\n",
    "                case f must return a NumPy array with the same dimension\n",
    "                as x.\n",
    "        y0    - the initial condition(s).  Specifies the value of x when\n",
    "                t = t[0].  Can be either a scalar or a list or NumPy array\n",
    "                if a system of equations is being solved.\n",
    "        t     - list or NumPy array of t values to compute solution at.\n",
    "                t[0] is the the initial condition point, and the difference\n",
    "                h=t[i+1]-t[i] determines the step size h.\n",
    "        args  - any other parameters of the function f.\n",
    "\n",
    "    OUTPUT:\n",
    "        y     - NumPy array containing solution values corresponding to each\n",
    "                entry in t array.  If a system is being solved, x will be\n",
    "                an array of arrays.\n",
    "\n",
    "    NOTES:\n",
    "        This version is based on the algorithm presented in \"Numerical\n",
    "        Mathematics and Computing\" 6th Edition, by Cheney and Kincaid,\n",
    "        Brooks-Cole, 2008.\n",
    "    \"\"\"\n",
    "\n",
    "    # Coefficients used to compute the independent variable argument of f\n",
    "\n",
    "    c20  =   2.500000000000000e-01  #  1/4\n",
    "    c30  =   3.750000000000000e-01  #  3/8\n",
    "    c40  =   9.230769230769231e-01  #  12/13\n",
    "    c50  =   1.000000000000000e+00  #  1\n",
    "    c60  =   5.000000000000000e-01  #  1/2\n",
    "\n",
    "    # Coefficients used to compute the dependent variable argument of f\n",
    "\n",
    "    c21 =   2.500000000000000e-01  #  1/4\n",
    "    c31 =   9.375000000000000e-02  #  3/32\n",
    "    c32 =   2.812500000000000e-01  #  9/32\n",
    "    c41 =   8.793809740555303e-01  #  1932/2197\n",
    "    c42 =  -3.277196176604461e+00  # -7200/2197\n",
    "    c43 =   3.320892125625853e+00  #  7296/2197\n",
    "    c51 =   2.032407407407407e+00  #  439/216\n",
    "    c52 =  -8.000000000000000e+00  # -8\n",
    "    c53 =   7.173489278752436e+00  #  3680/513\n",
    "    c54 =  -2.058966861598441e-01  # -845/4104\n",
    "    c61 =  -2.962962962962963e-01  # -8/27\n",
    "    c62 =   2.000000000000000e+00  #  2\n",
    "    c63 =  -1.381676413255361e+00  # -3544/2565\n",
    "    c64 =   4.529727095516569e-01  #  1859/4104\n",
    "    c65 =  -2.750000000000000e-01  # -11/40\n",
    "\n",
    "    # Coefficients used to compute 4th order RK estimate\n",
    "\n",
    "    a1  =   1.157407407407407e-01  #  25/216\n",
    "    a2  =   0.000000000000000e-00  #  0\n",
    "    a3  =   5.489278752436647e-01  #  1408/2565\n",
    "    a4  =   5.353313840155945e-01  #  2197/4104\n",
    "    a5  =  -2.000000000000000e-01  # -1/5\n",
    "\n",
    "    b1  =   1.185185185185185e-01  #  16.0/135.0\n",
    "    b2  =   0.000000000000000e-00  #  0\n",
    "    b3  =   5.189863547758284e-01  #  6656.0/12825.0\n",
    "    b4  =   5.061314903420167e-01  #  28561.0/56430.0\n",
    "    b5  =  -1.800000000000000e-01  # -9.0/50.0\n",
    "    b6  =   3.636363636363636e-02  #  2.0/55.0\n",
    "\n",
    "    n = len( t )\n",
    "    y = np.array( [ y0 ] * n )\n",
    "    for i in xrange( n - 1 ):\n",
    "        h = t[i+1] - t[i]\n",
    "        k1 = h * f( y[i], t[i], *args )\n",
    "        k2 = h * f( y[i] + c21 * k1, t[i] + c20 * h, *args )\n",
    "        k3 = h * f( y[i] + c31 * k1 + c32 * k2, t[i] + c30 * h, *args )\n",
    "        # BUG: The ``-`` in the equation below should be a ``+``.\n",
    "        k4 = h * f( y[i] + c41 * k1 - c42 * k2 + c43 * k3, t[i] + c40 * h, *args )\n",
    "        k5 = h * f( y[i] + c51 * k1 + c52 * k2 + c53 * k3 + c54 * k4, \\\n",
    "                        t[i] + h, *args )\n",
    "        k6 = h * f( \\\n",
    "            y[i] + c61 * k1 + c62 * k2 + c63 * k3 + c64 * k4 + c65 * k5, \\\n",
    "            t[i] + c60 * h, *args )\n",
    "\n",
    "        y[i+1] = y[i] + a1 * k1 + a3 * k3 + a4 * k4 + a5 * k5\n",
    "        y5 = y[i] + b1 * k1 + b3 * k3 + b4 * k4 + b5 * k5 + b6 * k6\n",
    "\n",
    "    return y"
   ]
  },
  {
   "cell_type": "markdown",
   "metadata": {},
   "source": [
    "### Code Verification\n",
    "It is obvious that even a small typo in the code above will have a significant impact in the solution. How do we know that the code actually solves Eq. (\\ref{eq:ode})? Well, we can't... However, we can convince ourselves about it. We need to find a case of Eq. (\\ref{eq:ode}) with a known solution. Consider the ODE governing a forced harmonic oscillator:\n",
    "$$\n",
    "\\begin{array}{ccl}\n",
    "\\ddot{y} &=& -k y + A\\sin(\\omega t),\\\\\n",
    "y(0) &=& 0,\\\\\n",
    "\\dot{y}(0) &=& 1.\n",
    "\\end{array}\n",
    "$$\n",
    "This can be solved analytically. Let's use [SymPy](http://docs.sympy.org/dev/index.html) to solve it:"
   ]
  },
  {
   "cell_type": "code",
   "execution_count": 152,
   "metadata": {
    "collapsed": false
   },
   "outputs": [
    {
     "data": {
      "image/png": "[encoded data removed]",
      "text/latex": [
       "$$y{\\left (t \\right )} = \\frac{A \\sin{\\left (\\omega t \\right )}}{k - \\omega^{2}} + C_{1} \\sin{\\left (\\sqrt{k} t \\right )} + C_{2} \\cos{\\left (\\sqrt{k} t \\right )}$$"
      ],
      "text/plain": [
       "       A⋅sin(ω⋅t)         ⎛  ___  ⎞         ⎛  ___  ⎞\n",
       "y(t) = ────────── + C₁⋅sin⎝╲╱ k ⋅t⎠ + C₂⋅cos⎝╲╱ k ⋅t⎠\n",
       "              2                                      \n",
       "         k - ω                                       "
      ]
     },
     "execution_count": 152,
     "metadata": {},
     "output_type": "execute_result"
    }
   ],
   "source": [
    "import sympy\n",
    "from sympy import init_printing\n",
    "init_printing()\n",
    "from sympy import Function, dsolve, Eq, Derivative, sin, symbols\n",
    "from sympy.abc import t\n",
    "t, k, A, omega = sympy.symbols('t k A omega', real = True, positive = True)\n",
    "y = Function('y')\n",
    "generic_solution = dsolve(Derivative(y(t), t, t) + k * y(t) - A * sin(omega * t), y(t))\n",
    "generic_solution"
   ]
  },
  {
   "cell_type": "code",
   "execution_count": 158,
   "metadata": {
    "collapsed": false
   },
   "outputs": [
    {
     "data": {
      "image/png": "[encoded data removed]",
      "text/latex": [
       "$$\\frac{A \\sin{\\left (\\omega t \\right )}}{k - \\omega^{2}} + \\frac{\\sin{\\left (\\sqrt{k} t \\right )}}{\\sqrt{k} \\left(k - \\omega^{2}\\right)} \\left(- A \\omega + k - \\omega^{2}\\right)$$"
      ],
      "text/plain": [
       "             ⎛            2⎞    ⎛  ___  ⎞\n",
       "A⋅sin(ω⋅t)   ⎝-A⋅ω + k - ω ⎠⋅sin⎝╲╱ k ⋅t⎠\n",
       "────────── + ────────────────────────────\n",
       "       2              ___ ⎛     2⎞       \n",
       "  k - ω             ╲╱ k ⋅⎝k - ω ⎠       "
      ]
     },
     "execution_count": 158,
     "metadata": {},
     "output_type": "execute_result"
    }
   ],
   "source": [
    "# Apply the initial conditions\n",
    "constants = sympy.solve((generic_solution.rhs.subs(t, 0), generic_solution.rhs.diff(t).subs(t, 0) - 1), ('C1', 'C2'))\n",
    "solution = generic_solution.rhs.subs(constants)\n",
    "solution"
   ]
  },
  {
   "cell_type": "code",
   "execution_count": 159,
   "metadata": {
    "collapsed": false
   },
   "outputs": [],
   "source": [
    "# Turn this into a Python function that we can actually evaluate\n",
    "from sympy.utilities.autowrap import ufuncify\n",
    "y_true = ufuncify([t, k, A, omega], solution)"
   ]
  },
  {
   "cell_type": "markdown",
   "metadata": {},
   "source": [
    "To solve this initial value problem numerically using ``rk45``, we must first turn it into a system. This is done by setting $y_1 = y$ and $y_2 = \\dot{y_1}$:\n",
    "$$\n",
    "\\begin{array}{ccl}\n",
    "\\dot{y}_1 &=& y_2,\\\\\n",
    "\\dot{y}_2 &=& -k y_1 + A\\sin(\\omega t),\\\\\n",
    "y_1(0) &=& 0,\\\\\n",
    "y_2(0) &=& 1.\n",
    "\\end{array}\n",
    "$$\n",
    "Thus $\\mathbf{f}(\\mathbf{y}, t) := \\mathbf{f}(y_1, y_2, t;k, A, \\omega) = (y_2, -k y_1 + A \\sin(\\omega t))$ in Eq. (\\ref{eq:ode})."
   ]
  },
  {
   "cell_type": "code",
   "execution_count": 174,
   "metadata": {
    "collapsed": false
   },
   "outputs": [],
   "source": [
    "def f(y, t, k, A, omega):\n",
    "    \"\"\"\n",
    "    RHS of the ODE we want to solve.\n",
    "    \n",
    "    k, A, and omega are model parameters.\n",
    "    \"\"\"\n",
    "    return np.array([y[1], -k * y[0] + A * np.sin(omega * t)])\n",
    "\n",
    "def plot_ode_sol(T = 30., k = 0.5, A = 1., omega = 2., nt = 10):\n",
    "    \"\"\"\n",
    "    Compare the numerical solution to the analytical one.\n",
    "    \"\"\"\n",
    "    t = np.linspace(0, T, int(nt))\n",
    "    y = rk45(f, (0., 1.), t, args=(k, A, omega))\n",
    "    plt.plot(t, y[:, 0], label='Numerical solution')\n",
    "    plt.plot(t, y_true(t, k, A, omega), '--', label='Analytical solution')\n",
    "    plt.legend()"
   ]
  },
  {
   "cell_type": "markdown",
   "metadata": {},
   "source": [
    "Use the [interactive widget](https://github.com/ipython/ipywidgets) below to verify that our code acutally solves the right mathematical equations.\n",
    "\n",
    "### Questions\n",
    "4) Can you verify that our code solves the right mathematical equation?\n",
    "\n",
    "5) If you can't, skim through the code of ``rk45`` to find a BUG and fix it. It should be fairly easy. The rerun the cell defininig the solver and play with the widget again.\n",
    "\n",
    "5) What is the parameter that controls the accuracy of the solution?"
   ]
  },
  {
   "cell_type": "code",
   "execution_count": 176,
   "metadata": {
    "collapsed": false
   },
   "outputs": [
    {
     "data": {
      "image/png": "[encoded data removed]",
      "text/plain": [
       "<matplotlib.figure.Figure at 0x1129a80d0>"
      ]
     },
     "metadata": {},
     "output_type": "display_data"
    }
   ],
   "source": [
    "from ipywidgets import interactive\n",
    "interactive(plot_ode_sol, T = (20, 100), k = [0., 1.], A = [0., 2.], omega = [0., 2], nt = [10, 100])"
   ]
  },
  {
   "cell_type": "markdown",
   "metadata": {},
   "source": [
    "## Probabilistic Representation of Uncertainties\n",
    "> The essense of the present theory is that no probability, direct, prior, or posterior, is simply a frequency. H. Jeffreys (1939)\n",
    "\n",
    "$$\n",
    "p(\\mbox{something}) = \\mbox{probability samething is true}.\n",
    "$$"
   ]
  },
  {
   "cell_type": "code",
   "execution_count": null,
   "metadata": {
    "collapsed": true
   },
   "outputs": [],
   "source": []
  },
  {
   "cell_type": "markdown",
   "metadata": {},
   "source": [
    "# References\n",
    "\n",
    "(<a id=\"cit-tsilifis2015\" href=\"#call-tsilifis2015\">Tsilifis, Bilionis <em>et al.</em>, 2015</a>) Tsilifis P., Bilionis I., Katsounaros I <em>et al.</em>, ``_Variational reformulation of Bayesian inverse problems_'', ASME Journal of Verification and Validation (submitted), vol. , number , pp. ,  2015.  [online](http://arxiv.org/abs/1410.5522)\n",
    "\n",
    "(<a id=\"cit-katsounaros\" href=\"#call-katsounaros\">Katsounaros, Dortsiou <em>et al.</em>, 2012</a>) Katsounaros I, Dortsiou M, Polatides C <em>et al.</em>, ``_Reaction pathways in the electrochemical reduction of nitrate on tin_'', Electrochimica Acta, vol. 71, number , pp. 270--276,  2012.\n",
    "\n"
   ]
  }
 ],
 "metadata": {
  "kernelspec": {
   "display_name": "Python 2",
   "language": "python",
   "name": "python2"
  },
  "language_info": {
   "codemirror_mode": {
    "name": "ipython",
    "version": 2
   },
   "file_extension": ".py",
   "mimetype": "text/x-python",
   "name": "python",
   "nbconvert_exporter": "python",
   "pygments_lexer": "ipython2",
   "version": "2.7.11"
  },
  "latex_envs": {
   "bibliofile": "biblio.bib",
   "cite_by": "apalike",
   "current_citInitial": 1,
   "eqLabelWithNumbers": true,
   "eqNumInitial": 0
  }
 },
 "nbformat": 4,
 "nbformat_minor": 0
}
